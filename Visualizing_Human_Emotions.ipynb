{
 "cells": [
  {
   "cell_type": "code",
   "execution_count": 1,
   "metadata": {
    "colab": {
     "base_uri": "https://localhost:8080/"
    },
    "id": "5umDhur3XupN",
    "outputId": "46a9eddb-2cba-4fa1-8b53-9428cfccfe2e"
   },
   "outputs": [
    {
     "name": "stdout",
     "output_type": "stream",
     "text": [
      "Looking in indexes: https://pypi.org/simple, https://us-python.pkg.dev/colab-wheels/public/simple/\n",
      "Collecting chart-studio\n",
      "  Downloading chart_studio-1.1.0-py3-none-any.whl (64 kB)\n",
      "\u001b[K     |████████████████████████████████| 64 kB 2.6 MB/s \n",
      "\u001b[?25hRequirement already satisfied: plotly in /usr/local/lib/python3.7/dist-packages (from chart-studio) (5.5.0)\n",
      "Requirement already satisfied: requests in /usr/local/lib/python3.7/dist-packages (from chart-studio) (2.23.0)\n",
      "Collecting retrying>=1.3.3\n",
      "  Downloading retrying-1.3.3.tar.gz (10 kB)\n",
      "Requirement already satisfied: six in /usr/local/lib/python3.7/dist-packages (from chart-studio) (1.15.0)\n",
      "Requirement already satisfied: tenacity>=6.2.0 in /usr/local/lib/python3.7/dist-packages (from plotly->chart-studio) (8.0.1)\n",
      "Requirement already satisfied: certifi>=2017.4.17 in /usr/local/lib/python3.7/dist-packages (from requests->chart-studio) (2022.6.15)\n",
      "Requirement already satisfied: chardet<4,>=3.0.2 in /usr/local/lib/python3.7/dist-packages (from requests->chart-studio) (3.0.4)\n",
      "Requirement already satisfied: idna<3,>=2.5 in /usr/local/lib/python3.7/dist-packages (from requests->chart-studio) (2.10)\n",
      "Requirement already satisfied: urllib3!=1.25.0,!=1.25.1,<1.26,>=1.21.1 in /usr/local/lib/python3.7/dist-packages (from requests->chart-studio) (1.24.3)\n",
      "Building wheels for collected packages: retrying\n",
      "  Building wheel for retrying (setup.py) ... \u001b[?25l\u001b[?25hdone\n",
      "  Created wheel for retrying: filename=retrying-1.3.3-py3-none-any.whl size=11447 sha256=500d29f4eda8e8cb650e7eb62afa442875560e74a55eb17788bb44553487289d\n",
      "  Stored in directory: /root/.cache/pip/wheels/f9/8d/8d/f6af3f7f9eea3553bc2fe6d53e4b287dad18b06a861ac56ddf\n",
      "Successfully built retrying\n",
      "Installing collected packages: retrying, chart-studio\n",
      "Successfully installed chart-studio-1.1.0 retrying-1.3.3\n"
     ]
    }
   ],
   "source": [
    "# install packages\n",
    "!pip install chart-studio"
   ]
  },
  {
   "cell_type": "code",
   "execution_count": 2,
   "metadata": {
    "id": "1qlGYsnSX4DO"
   },
   "outputs": [],
   "source": [
    "# imports\n",
    "import chart_studio\n",
    "import plotly.express as px\n",
    "import pandas as pd\n",
    "import numpy as np\n",
    "from google.colab import files\n",
    "from nltk.sentiment.vader import SentimentIntensityAnalyzer\n",
    "import nltk"
   ]
  },
  {
   "cell_type": "code",
   "execution_count": 3,
   "metadata": {
    "id": "t1kQtfeLYEX7"
   },
   "outputs": [],
   "source": [
    "# API Connection\n",
    "username='your plotly chart studio user name' # use your plotly username\n",
    "api_key='API Key' # use your plotly API Key\n",
    "chart_studio.tools.set_credentials_file(username=username, api_key=api_key)"
   ]
  },
  {
   "cell_type": "code",
   "execution_count": 4,
   "metadata": {
    "colab": {
     "base_uri": "https://localhost:8080/",
     "height": 74,
     "resources": {
      "http://localhost:8080/nbextensions/google.colab/files.js": {
       "data": "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",
       "headers": [
        [
         "content-type",
         "application/javascript"
        ]
       ],
       "ok": true,
       "status": 200,
       "status_text": ""
      }
     }
    },
    "id": "YMcqm2TIYMpA",
    "outputId": "70bb1761-a191-4380-b7e3-5a7a4b3ae674"
   },
   "outputs": [
    {
     "data": {
      "text/html": [
       "\n",
       "     <input type=\"file\" id=\"files-9804b55f-396f-41cc-a0f1-60f5ad484b5f\" name=\"files[]\" multiple disabled\n",
       "        style=\"border:none\" />\n",
       "     <output id=\"result-9804b55f-396f-41cc-a0f1-60f5ad484b5f\">\n",
       "      Upload widget is only available when the cell has been executed in the\n",
       "      current browser session. Please rerun this cell to enable.\n",
       "      </output>\n",
       "      <script src=\"/nbextensions/google.colab/files.js\"></script> "
      ],
      "text/plain": [
       "<IPython.core.display.HTML object>"
      ]
     },
     "metadata": {},
     "output_type": "display_data"
    },
    {
     "name": "stdout",
     "output_type": "stream",
     "text": [
      "Saving Human_emotions_classification.xlsx to Human_emotions_classification.xlsx\n"
     ]
    }
   ],
   "source": [
    "# File Upload\n",
    "input_file = files.upload()"
   ]
  },
  {
   "cell_type": "code",
   "execution_count": 5,
   "metadata": {
    "id": "2MAw-ZG_YWSj"
   },
   "outputs": [],
   "source": [
    "# read uploaded file as a dataframe\n",
    "df = pd.read_excel(\"Human_emotions_classification.xlsx\")"
   ]
  },
  {
   "cell_type": "code",
   "execution_count": 6,
   "metadata": {
    "colab": {
     "base_uri": "https://localhost:8080/",
     "height": 363
    },
    "id": "4Zv35OTCYvDg",
    "outputId": "ff0e573e-d720-4277-b4cf-110950837c46"
   },
   "outputs": [
    {
     "data": {
      "text/html": [
       "\n",
       "  <div id=\"df-fd63fb27-ffca-469f-81bc-5f587b281e51\">\n",
       "    <div class=\"colab-df-container\">\n",
       "      <div>\n",
       "<style scoped>\n",
       "    .dataframe tbody tr th:only-of-type {\n",
       "        vertical-align: middle;\n",
       "    }\n",
       "\n",
       "    .dataframe tbody tr th {\n",
       "        vertical-align: top;\n",
       "    }\n",
       "\n",
       "    .dataframe thead th {\n",
       "        text-align: right;\n",
       "    }\n",
       "</style>\n",
       "<table border=\"1\" class=\"dataframe\">\n",
       "  <thead>\n",
       "    <tr style=\"text-align: right;\">\n",
       "      <th></th>\n",
       "      <th>Primary emotion</th>\n",
       "      <th>Secondary emotion</th>\n",
       "      <th>Tertiary emotion</th>\n",
       "    </tr>\n",
       "  </thead>\n",
       "  <tbody>\n",
       "    <tr>\n",
       "      <th>0</th>\n",
       "      <td>Love</td>\n",
       "      <td>Affection</td>\n",
       "      <td>Adoration</td>\n",
       "    </tr>\n",
       "    <tr>\n",
       "      <th>1</th>\n",
       "      <td>Love</td>\n",
       "      <td>Affection</td>\n",
       "      <td>Fondness</td>\n",
       "    </tr>\n",
       "    <tr>\n",
       "      <th>2</th>\n",
       "      <td>Love</td>\n",
       "      <td>Affection</td>\n",
       "      <td>Liking</td>\n",
       "    </tr>\n",
       "    <tr>\n",
       "      <th>3</th>\n",
       "      <td>Love</td>\n",
       "      <td>Affection</td>\n",
       "      <td>Attraction</td>\n",
       "    </tr>\n",
       "    <tr>\n",
       "      <th>4</th>\n",
       "      <td>Love</td>\n",
       "      <td>Affection</td>\n",
       "      <td>Caring</td>\n",
       "    </tr>\n",
       "    <tr>\n",
       "      <th>5</th>\n",
       "      <td>Love</td>\n",
       "      <td>Affection</td>\n",
       "      <td>Tenderness</td>\n",
       "    </tr>\n",
       "    <tr>\n",
       "      <th>6</th>\n",
       "      <td>Love</td>\n",
       "      <td>Affection</td>\n",
       "      <td>Compassion</td>\n",
       "    </tr>\n",
       "    <tr>\n",
       "      <th>7</th>\n",
       "      <td>Love</td>\n",
       "      <td>Affection</td>\n",
       "      <td>Sentimentality</td>\n",
       "    </tr>\n",
       "    <tr>\n",
       "      <th>8</th>\n",
       "      <td>Love</td>\n",
       "      <td>Lust</td>\n",
       "      <td>Desire</td>\n",
       "    </tr>\n",
       "    <tr>\n",
       "      <th>9</th>\n",
       "      <td>Love</td>\n",
       "      <td>Lust</td>\n",
       "      <td>Passion</td>\n",
       "    </tr>\n",
       "  </tbody>\n",
       "</table>\n",
       "</div>\n",
       "      <button class=\"colab-df-convert\" onclick=\"convertToInteractive('df-fd63fb27-ffca-469f-81bc-5f587b281e51')\"\n",
       "              title=\"Convert this dataframe to an interactive table.\"\n",
       "              style=\"display:none;\">\n",
       "        \n",
       "  <svg xmlns=\"http://www.w3.org/2000/svg\" height=\"24px\"viewBox=\"0 0 24 24\"\n",
       "       width=\"24px\">\n",
       "    <path d=\"M0 0h24v24H0V0z\" fill=\"none\"/>\n",
       "    <path d=\"M18.56 5.44l.94 2.06.94-2.06 2.06-.94-2.06-.94-.94-2.06-.94 2.06-2.06.94zm-11 1L8.5 8.5l.94-2.06 2.06-.94-2.06-.94L8.5 2.5l-.94 2.06-2.06.94zm10 10l.94 2.06.94-2.06 2.06-.94-2.06-.94-.94-2.06-.94 2.06-2.06.94z\"/><path d=\"M17.41 7.96l-1.37-1.37c-.4-.4-.92-.59-1.43-.59-.52 0-1.04.2-1.43.59L10.3 9.45l-7.72 7.72c-.78.78-.78 2.05 0 2.83L4 21.41c.39.39.9.59 1.41.59.51 0 1.02-.2 1.41-.59l7.78-7.78 2.81-2.81c.8-.78.8-2.07 0-2.86zM5.41 20L4 18.59l7.72-7.72 1.47 1.35L5.41 20z\"/>\n",
       "  </svg>\n",
       "      </button>\n",
       "      \n",
       "  <style>\n",
       "    .colab-df-container {\n",
       "      display:flex;\n",
       "      flex-wrap:wrap;\n",
       "      gap: 12px;\n",
       "    }\n",
       "\n",
       "    .colab-df-convert {\n",
       "      background-color: #E8F0FE;\n",
       "      border: none;\n",
       "      border-radius: 50%;\n",
       "      cursor: pointer;\n",
       "      display: none;\n",
       "      fill: #1967D2;\n",
       "      height: 32px;\n",
       "      padding: 0 0 0 0;\n",
       "      width: 32px;\n",
       "    }\n",
       "\n",
       "    .colab-df-convert:hover {\n",
       "      background-color: #E2EBFA;\n",
       "      box-shadow: 0px 1px 2px rgba(60, 64, 67, 0.3), 0px 1px 3px 1px rgba(60, 64, 67, 0.15);\n",
       "      fill: #174EA6;\n",
       "    }\n",
       "\n",
       "    [theme=dark] .colab-df-convert {\n",
       "      background-color: #3B4455;\n",
       "      fill: #D2E3FC;\n",
       "    }\n",
       "\n",
       "    [theme=dark] .colab-df-convert:hover {\n",
       "      background-color: #434B5C;\n",
       "      box-shadow: 0px 1px 3px 1px rgba(0, 0, 0, 0.15);\n",
       "      filter: drop-shadow(0px 1px 2px rgba(0, 0, 0, 0.3));\n",
       "      fill: #FFFFFF;\n",
       "    }\n",
       "  </style>\n",
       "\n",
       "      <script>\n",
       "        const buttonEl =\n",
       "          document.querySelector('#df-fd63fb27-ffca-469f-81bc-5f587b281e51 button.colab-df-convert');\n",
       "        buttonEl.style.display =\n",
       "          google.colab.kernel.accessAllowed ? 'block' : 'none';\n",
       "\n",
       "        async function convertToInteractive(key) {\n",
       "          const element = document.querySelector('#df-fd63fb27-ffca-469f-81bc-5f587b281e51');\n",
       "          const dataTable =\n",
       "            await google.colab.kernel.invokeFunction('convertToInteractive',\n",
       "                                                     [key], {});\n",
       "          if (!dataTable) return;\n",
       "\n",
       "          const docLinkHtml = 'Like what you see? Visit the ' +\n",
       "            '<a target=\"_blank\" href=https://colab.research.google.com/notebooks/data_table.ipynb>data table notebook</a>'\n",
       "            + ' to learn more about interactive tables.';\n",
       "          element.innerHTML = '';\n",
       "          dataTable['output_type'] = 'display_data';\n",
       "          await google.colab.output.renderOutput(dataTable, element);\n",
       "          const docLink = document.createElement('div');\n",
       "          docLink.innerHTML = docLinkHtml;\n",
       "          element.appendChild(docLink);\n",
       "        }\n",
       "      </script>\n",
       "    </div>\n",
       "  </div>\n",
       "  "
      ],
      "text/plain": [
       "  Primary emotion Secondary emotion Tertiary emotion\n",
       "0            Love         Affection        Adoration\n",
       "1            Love         Affection         Fondness\n",
       "2            Love         Affection           Liking\n",
       "3            Love         Affection       Attraction\n",
       "4            Love         Affection           Caring\n",
       "5            Love         Affection       Tenderness\n",
       "6            Love         Affection       Compassion\n",
       "7            Love         Affection   Sentimentality\n",
       "8            Love              Lust           Desire\n",
       "9            Love              Lust          Passion"
      ]
     },
     "execution_count": 6,
     "metadata": {},
     "output_type": "execute_result"
    }
   ],
   "source": [
    "# Check data\n",
    "df.head(10)"
   ]
  },
  {
   "cell_type": "code",
   "execution_count": 7,
   "metadata": {
    "id": "5MTLWB-qZOoW"
   },
   "outputs": [],
   "source": [
    "# Creating a combination column of secondaryand tertiary emotions\n",
    "# This is done to give a better sentiment score\n",
    "df['combination'] =  df['Secondary emotion']+ \", \" + df['Tertiary emotion']"
   ]
  },
  {
   "cell_type": "code",
   "execution_count": 8,
   "metadata": {
    "colab": {
     "base_uri": "https://localhost:8080/"
    },
    "id": "Va1RfP3UaRDx",
    "outputId": "0cdc5f70-6382-463c-81ef-90f1ba4df361"
   },
   "outputs": [
    {
     "name": "stderr",
     "output_type": "stream",
     "text": [
      "[nltk_data] Downloading package vader_lexicon to /root/nltk_data...\n"
     ]
    }
   ],
   "source": [
    "# Download nltk vader lexicon and initialise sentiment analyzer\n",
    "nltk.download('vader_lexicon')\n",
    "sent = SentimentIntensityAnalyzer()"
   ]
  },
  {
   "cell_type": "code",
   "execution_count": 9,
   "metadata": {
    "id": "s-lBng-VZR7_"
   },
   "outputs": [],
   "source": [
    "# Calculate sentiment score for the column 'combination' and save it in the column 'sentiment_score'\n",
    "polarity = [round(sent.polarity_scores(i)['compound'], 2) for i in df['combination']]\n",
    "df['sentiment_score'] = polarity"
   ]
  },
  {
   "cell_type": "code",
   "execution_count": 10,
   "metadata": {
    "colab": {
     "base_uri": "https://localhost:8080/",
     "height": 363
    },
    "id": "nwHF5Uc3a4uc",
    "outputId": "8133a013-2b64-42da-82ee-2aadeb343441"
   },
   "outputs": [
    {
     "data": {
      "text/html": [
       "\n",
       "  <div id=\"df-a13ec611-15fb-46f7-8b85-80d6629f1868\">\n",
       "    <div class=\"colab-df-container\">\n",
       "      <div>\n",
       "<style scoped>\n",
       "    .dataframe tbody tr th:only-of-type {\n",
       "        vertical-align: middle;\n",
       "    }\n",
       "\n",
       "    .dataframe tbody tr th {\n",
       "        vertical-align: top;\n",
       "    }\n",
       "\n",
       "    .dataframe thead th {\n",
       "        text-align: right;\n",
       "    }\n",
       "</style>\n",
       "<table border=\"1\" class=\"dataframe\">\n",
       "  <thead>\n",
       "    <tr style=\"text-align: right;\">\n",
       "      <th></th>\n",
       "      <th>Primary emotion</th>\n",
       "      <th>Secondary emotion</th>\n",
       "      <th>Tertiary emotion</th>\n",
       "      <th>combination</th>\n",
       "      <th>sentiment_score</th>\n",
       "    </tr>\n",
       "  </thead>\n",
       "  <tbody>\n",
       "    <tr>\n",
       "      <th>0</th>\n",
       "      <td>Love</td>\n",
       "      <td>Affection</td>\n",
       "      <td>Adoration</td>\n",
       "      <td>Affection, Adoration</td>\n",
       "      <td>0.81</td>\n",
       "    </tr>\n",
       "    <tr>\n",
       "      <th>1</th>\n",
       "      <td>Love</td>\n",
       "      <td>Affection</td>\n",
       "      <td>Fondness</td>\n",
       "      <td>Affection, Fondness</td>\n",
       "      <td>0.78</td>\n",
       "    </tr>\n",
       "    <tr>\n",
       "      <th>2</th>\n",
       "      <td>Love</td>\n",
       "      <td>Affection</td>\n",
       "      <td>Liking</td>\n",
       "      <td>Affection, Liking</td>\n",
       "      <td>0.73</td>\n",
       "    </tr>\n",
       "    <tr>\n",
       "      <th>3</th>\n",
       "      <td>Love</td>\n",
       "      <td>Affection</td>\n",
       "      <td>Attraction</td>\n",
       "      <td>Affection, Attraction</td>\n",
       "      <td>0.75</td>\n",
       "    </tr>\n",
       "    <tr>\n",
       "      <th>4</th>\n",
       "      <td>Love</td>\n",
       "      <td>Affection</td>\n",
       "      <td>Caring</td>\n",
       "      <td>Affection, Caring</td>\n",
       "      <td>0.77</td>\n",
       "    </tr>\n",
       "    <tr>\n",
       "      <th>5</th>\n",
       "      <td>Love</td>\n",
       "      <td>Affection</td>\n",
       "      <td>Tenderness</td>\n",
       "      <td>Affection, Tenderness</td>\n",
       "      <td>0.74</td>\n",
       "    </tr>\n",
       "    <tr>\n",
       "      <th>6</th>\n",
       "      <td>Love</td>\n",
       "      <td>Affection</td>\n",
       "      <td>Compassion</td>\n",
       "      <td>Affection, Compassion</td>\n",
       "      <td>0.75</td>\n",
       "    </tr>\n",
       "    <tr>\n",
       "      <th>7</th>\n",
       "      <td>Love</td>\n",
       "      <td>Affection</td>\n",
       "      <td>Sentimentality</td>\n",
       "      <td>Affection, Sentimentality</td>\n",
       "      <td>0.68</td>\n",
       "    </tr>\n",
       "    <tr>\n",
       "      <th>8</th>\n",
       "      <td>Love</td>\n",
       "      <td>Lust</td>\n",
       "      <td>Desire</td>\n",
       "      <td>Lust, Desire</td>\n",
       "      <td>0.40</td>\n",
       "    </tr>\n",
       "    <tr>\n",
       "      <th>9</th>\n",
       "      <td>Love</td>\n",
       "      <td>Lust</td>\n",
       "      <td>Passion</td>\n",
       "      <td>Lust, Passion</td>\n",
       "      <td>0.46</td>\n",
       "    </tr>\n",
       "  </tbody>\n",
       "</table>\n",
       "</div>\n",
       "      <button class=\"colab-df-convert\" onclick=\"convertToInteractive('df-a13ec611-15fb-46f7-8b85-80d6629f1868')\"\n",
       "              title=\"Convert this dataframe to an interactive table.\"\n",
       "              style=\"display:none;\">\n",
       "        \n",
       "  <svg xmlns=\"http://www.w3.org/2000/svg\" height=\"24px\"viewBox=\"0 0 24 24\"\n",
       "       width=\"24px\">\n",
       "    <path d=\"M0 0h24v24H0V0z\" fill=\"none\"/>\n",
       "    <path d=\"M18.56 5.44l.94 2.06.94-2.06 2.06-.94-2.06-.94-.94-2.06-.94 2.06-2.06.94zm-11 1L8.5 8.5l.94-2.06 2.06-.94-2.06-.94L8.5 2.5l-.94 2.06-2.06.94zm10 10l.94 2.06.94-2.06 2.06-.94-2.06-.94-.94-2.06-.94 2.06-2.06.94z\"/><path d=\"M17.41 7.96l-1.37-1.37c-.4-.4-.92-.59-1.43-.59-.52 0-1.04.2-1.43.59L10.3 9.45l-7.72 7.72c-.78.78-.78 2.05 0 2.83L4 21.41c.39.39.9.59 1.41.59.51 0 1.02-.2 1.41-.59l7.78-7.78 2.81-2.81c.8-.78.8-2.07 0-2.86zM5.41 20L4 18.59l7.72-7.72 1.47 1.35L5.41 20z\"/>\n",
       "  </svg>\n",
       "      </button>\n",
       "      \n",
       "  <style>\n",
       "    .colab-df-container {\n",
       "      display:flex;\n",
       "      flex-wrap:wrap;\n",
       "      gap: 12px;\n",
       "    }\n",
       "\n",
       "    .colab-df-convert {\n",
       "      background-color: #E8F0FE;\n",
       "      border: none;\n",
       "      border-radius: 50%;\n",
       "      cursor: pointer;\n",
       "      display: none;\n",
       "      fill: #1967D2;\n",
       "      height: 32px;\n",
       "      padding: 0 0 0 0;\n",
       "      width: 32px;\n",
       "    }\n",
       "\n",
       "    .colab-df-convert:hover {\n",
       "      background-color: #E2EBFA;\n",
       "      box-shadow: 0px 1px 2px rgba(60, 64, 67, 0.3), 0px 1px 3px 1px rgba(60, 64, 67, 0.15);\n",
       "      fill: #174EA6;\n",
       "    }\n",
       "\n",
       "    [theme=dark] .colab-df-convert {\n",
       "      background-color: #3B4455;\n",
       "      fill: #D2E3FC;\n",
       "    }\n",
       "\n",
       "    [theme=dark] .colab-df-convert:hover {\n",
       "      background-color: #434B5C;\n",
       "      box-shadow: 0px 1px 3px 1px rgba(0, 0, 0, 0.15);\n",
       "      filter: drop-shadow(0px 1px 2px rgba(0, 0, 0, 0.3));\n",
       "      fill: #FFFFFF;\n",
       "    }\n",
       "  </style>\n",
       "\n",
       "      <script>\n",
       "        const buttonEl =\n",
       "          document.querySelector('#df-a13ec611-15fb-46f7-8b85-80d6629f1868 button.colab-df-convert');\n",
       "        buttonEl.style.display =\n",
       "          google.colab.kernel.accessAllowed ? 'block' : 'none';\n",
       "\n",
       "        async function convertToInteractive(key) {\n",
       "          const element = document.querySelector('#df-a13ec611-15fb-46f7-8b85-80d6629f1868');\n",
       "          const dataTable =\n",
       "            await google.colab.kernel.invokeFunction('convertToInteractive',\n",
       "                                                     [key], {});\n",
       "          if (!dataTable) return;\n",
       "\n",
       "          const docLinkHtml = 'Like what you see? Visit the ' +\n",
       "            '<a target=\"_blank\" href=https://colab.research.google.com/notebooks/data_table.ipynb>data table notebook</a>'\n",
       "            + ' to learn more about interactive tables.';\n",
       "          element.innerHTML = '';\n",
       "          dataTable['output_type'] = 'display_data';\n",
       "          await google.colab.output.renderOutput(dataTable, element);\n",
       "          const docLink = document.createElement('div');\n",
       "          docLink.innerHTML = docLinkHtml;\n",
       "          element.appendChild(docLink);\n",
       "        }\n",
       "      </script>\n",
       "    </div>\n",
       "  </div>\n",
       "  "
      ],
      "text/plain": [
       "  Primary emotion Secondary emotion Tertiary emotion  \\\n",
       "0            Love         Affection        Adoration   \n",
       "1            Love         Affection         Fondness   \n",
       "2            Love         Affection           Liking   \n",
       "3            Love         Affection       Attraction   \n",
       "4            Love         Affection           Caring   \n",
       "5            Love         Affection       Tenderness   \n",
       "6            Love         Affection       Compassion   \n",
       "7            Love         Affection   Sentimentality   \n",
       "8            Love              Lust           Desire   \n",
       "9            Love              Lust          Passion   \n",
       "\n",
       "                 combination  sentiment_score  \n",
       "0       Affection, Adoration             0.81  \n",
       "1        Affection, Fondness             0.78  \n",
       "2          Affection, Liking             0.73  \n",
       "3      Affection, Attraction             0.75  \n",
       "4          Affection, Caring             0.77  \n",
       "5      Affection, Tenderness             0.74  \n",
       "6      Affection, Compassion             0.75  \n",
       "7  Affection, Sentimentality             0.68  \n",
       "8               Lust, Desire             0.40  \n",
       "9              Lust, Passion             0.46  "
      ]
     },
     "execution_count": 10,
     "metadata": {},
     "output_type": "execute_result"
    }
   ],
   "source": [
    "# Check data\n",
    "df.head(10)"
   ]
  },
  {
   "cell_type": "code",
   "execution_count": 11,
   "metadata": {
    "colab": {
     "base_uri": "https://localhost:8080/"
    },
    "id": "mHNm6E1ibCAp",
    "outputId": "5eae4de2-5840-4ad3-dc6a-40ac52006b01"
   },
   "outputs": [
    {
     "data": {
      "text/plain": [
       "array([ 0.81,  0.78,  0.73,  0.75,  0.77,  0.74,  0.68,  0.4 ,  0.46,\n",
       "        0.15,  0.38,  0.1 ,  0.48,  0.79,  0.72,  0.44,  0.  ,  0.49,\n",
       "        0.36,  0.67, -0.34, -0.53, -0.57, -0.65, -0.48, -0.81, -0.78,\n",
       "       -0.56, -0.8 , -0.74, -0.83, -0.79, -0.76, -0.6 , -0.82, -0.71,\n",
       "       -0.77, -0.64, -0.44, -0.73, -0.69, -0.7 , -0.51, -0.62, -0.46,\n",
       "        0.08,  0.61, -0.3 , -0.59, -0.68])"
      ]
     },
     "execution_count": 11,
     "metadata": {},
     "output_type": "execute_result"
    }
   ],
   "source": [
    "# Check unique sentiment scores\n",
    "df.sentiment_score.unique()"
   ]
  },
  {
   "cell_type": "code",
   "execution_count": 12,
   "metadata": {
    "colab": {
     "base_uri": "https://localhost:8080/"
    },
    "id": "UvYfjaNxbQBB",
    "outputId": "63570865-69b4-4fb3-a913-548ef4a22182"
   },
   "outputs": [
    {
     "data": {
      "text/plain": [
       "-0.74    8\n",
       " 0.00    6\n",
       " 0.77    5\n",
       "-0.70    4\n",
       " 0.74    4\n",
       "-0.64    4\n",
       "-0.77    4\n",
       "-0.76    4\n",
       " 0.48    4\n",
       "-0.65    4\n",
       " 0.81    3\n",
       "-0.73    3\n",
       "-0.71    3\n",
       "-0.79    3\n",
       " 0.78    3\n",
       "-0.34    3\n",
       "-0.81    3\n",
       " 0.68    3\n",
       " 0.75    3\n",
       "-0.78    2\n",
       "-0.69    2\n",
       " 0.15    2\n",
       "-0.62    2\n",
       "-0.83    2\n",
       "-0.80    2\n",
       "-0.44    2\n",
       " 0.49    2\n",
       " 0.79    2\n",
       " 0.08    2\n",
       "-0.57    2\n",
       "-0.53    2\n",
       "-0.56    2\n",
       "-0.46    1\n",
       " 0.61    1\n",
       "-0.51    1\n",
       " 0.73    1\n",
       "-0.30    1\n",
       "-0.59    1\n",
       "-0.60    1\n",
       " 0.40    1\n",
       " 0.46    1\n",
       "-0.82    1\n",
       " 0.36    1\n",
       " 0.38    1\n",
       " 0.10    1\n",
       "-0.48    1\n",
       " 0.72    1\n",
       " 0.44    1\n",
       " 0.67    1\n",
       "-0.68    1\n",
       "Name: sentiment_score, dtype: int64"
      ]
     },
     "execution_count": 12,
     "metadata": {},
     "output_type": "execute_result"
    }
   ],
   "source": [
    "# Check distribution of the scores\n",
    "df.sentiment_score.value_counts()"
   ]
  },
  {
   "cell_type": "code",
   "execution_count": 13,
   "metadata": {
    "id": "StQ2c47KbZVZ"
   },
   "outputs": [],
   "source": [
    "# Categorize the scores based on the following bins between -1 and 1\n",
    "\n",
    "bins = [-1, -0.66, -0.33, 0, 0.33, 0.66, 1, np.inf]\n",
    "names = ['Strong Negative', 'Negative', 'Mild Negative', 'Neutral', 'Mild Positive', 'Positive', 'Strong Positive']\n",
    "\n",
    "df['Emotion type'] = pd.cut(df['sentiment_score'], bins, labels=names)"
   ]
  },
  {
   "cell_type": "code",
   "execution_count": 14,
   "metadata": {
    "id": "Orp8IrjbfAao"
   },
   "outputs": [],
   "source": [
    "# Normalize all the sentiment_scores between 0 and 1\n",
    "df['sentiment_score'] = (df['sentiment_score'] - np.min(df['sentiment_score'])) / (np.max(df['sentiment_score']) - np.min(df['sentiment_score']))"
   ]
  },
  {
   "cell_type": "code",
   "execution_count": 65,
   "metadata": {
    "id": "Pcp6ADYqbo3e"
   },
   "outputs": [],
   "source": [
    "# Create a column with constant text 'Human Emotions'\n",
    "df['Emotion'] = \" \""
   ]
  },
  {
   "cell_type": "code",
   "execution_count": 66,
   "metadata": {
    "id": "CYHEen2mfqty"
   },
   "outputs": [],
   "source": [
    "# Sort the data frame\n",
    "df = df.sort_values(['sentiment_score','Tertiary emotion'], ascending = [True, True])"
   ]
  },
  {
   "cell_type": "code",
   "execution_count": 67,
   "metadata": {
    "colab": {
     "base_uri": "https://localhost:8080/",
     "height": 424
    },
    "id": "0ejmikSxb7tl",
    "outputId": "45fa4e61-91a4-4411-99fd-f8163b58c3a5"
   },
   "outputs": [
    {
     "data": {
      "text/html": [
       "\n",
       "  <div id=\"df-2945a187-78b7-4a51-8ca1-e41f33549271\">\n",
       "    <div class=\"colab-df-container\">\n",
       "      <div>\n",
       "<style scoped>\n",
       "    .dataframe tbody tr th:only-of-type {\n",
       "        vertical-align: middle;\n",
       "    }\n",
       "\n",
       "    .dataframe tbody tr th {\n",
       "        vertical-align: top;\n",
       "    }\n",
       "\n",
       "    .dataframe thead th {\n",
       "        text-align: right;\n",
       "    }\n",
       "</style>\n",
       "<table border=\"1\" class=\"dataframe\">\n",
       "  <thead>\n",
       "    <tr style=\"text-align: right;\">\n",
       "      <th></th>\n",
       "      <th>Primary emotion</th>\n",
       "      <th>Secondary emotion</th>\n",
       "      <th>Tertiary emotion</th>\n",
       "      <th>combination</th>\n",
       "      <th>sentiment_score</th>\n",
       "      <th>Emotion type</th>\n",
       "      <th>Emotion</th>\n",
       "    </tr>\n",
       "  </thead>\n",
       "  <tbody>\n",
       "    <tr>\n",
       "      <th>66</th>\n",
       "      <td>Anger</td>\n",
       "      <td>Disgust</td>\n",
       "      <td>Contempt</td>\n",
       "      <td>Disgust, Contempt</td>\n",
       "      <td>0.000000</td>\n",
       "      <td>Strong Negative</td>\n",
       "      <td></td>\n",
       "    </tr>\n",
       "    <tr>\n",
       "      <th>59</th>\n",
       "      <td>Anger</td>\n",
       "      <td>Rage</td>\n",
       "      <td>Hatred</td>\n",
       "      <td>Rage, Hatred</td>\n",
       "      <td>0.000000</td>\n",
       "      <td>Strong Negative</td>\n",
       "      <td></td>\n",
       "    </tr>\n",
       "    <tr>\n",
       "      <th>67</th>\n",
       "      <td>Anger</td>\n",
       "      <td>Disgust</td>\n",
       "      <td>Loathing</td>\n",
       "      <td>Disgust, Loathing</td>\n",
       "      <td>0.006098</td>\n",
       "      <td>Strong Negative</td>\n",
       "      <td></td>\n",
       "    </tr>\n",
       "    <tr>\n",
       "      <th>52</th>\n",
       "      <td>Anger</td>\n",
       "      <td>Rage</td>\n",
       "      <td>Anger</td>\n",
       "      <td>Rage, Anger</td>\n",
       "      <td>0.012195</td>\n",
       "      <td>Strong Negative</td>\n",
       "      <td></td>\n",
       "    </tr>\n",
       "    <tr>\n",
       "      <th>54</th>\n",
       "      <td>Anger</td>\n",
       "      <td>Rage</td>\n",
       "      <td>Fury</td>\n",
       "      <td>Rage, Fury</td>\n",
       "      <td>0.012195</td>\n",
       "      <td>Strong Negative</td>\n",
       "      <td></td>\n",
       "    </tr>\n",
       "    <tr>\n",
       "      <th>...</th>\n",
       "      <td>...</td>\n",
       "      <td>...</td>\n",
       "      <td>...</td>\n",
       "      <td>...</td>\n",
       "      <td>...</td>\n",
       "      <td>...</td>\n",
       "      <td>...</td>\n",
       "    </tr>\n",
       "    <tr>\n",
       "      <th>20</th>\n",
       "      <td>Joy</td>\n",
       "      <td>Cheerfulness</td>\n",
       "      <td>Delight</td>\n",
       "      <td>Cheerfulness, Delight</td>\n",
       "      <td>0.987805</td>\n",
       "      <td>Positive</td>\n",
       "      <td></td>\n",
       "    </tr>\n",
       "    <tr>\n",
       "      <th>27</th>\n",
       "      <td>Joy</td>\n",
       "      <td>Cheerfulness</td>\n",
       "      <td>Ecstasy</td>\n",
       "      <td>Cheerfulness, Ecstasy</td>\n",
       "      <td>0.987805</td>\n",
       "      <td>Positive</td>\n",
       "      <td></td>\n",
       "    </tr>\n",
       "    <tr>\n",
       "      <th>0</th>\n",
       "      <td>Love</td>\n",
       "      <td>Affection</td>\n",
       "      <td>Adoration</td>\n",
       "      <td>Affection, Adoration</td>\n",
       "      <td>1.000000</td>\n",
       "      <td>Positive</td>\n",
       "      <td></td>\n",
       "    </tr>\n",
       "    <tr>\n",
       "      <th>28</th>\n",
       "      <td>Joy</td>\n",
       "      <td>Cheerfulness</td>\n",
       "      <td>Euphoria</td>\n",
       "      <td>Cheerfulness, Euphoria</td>\n",
       "      <td>1.000000</td>\n",
       "      <td>Positive</td>\n",
       "      <td></td>\n",
       "    </tr>\n",
       "    <tr>\n",
       "      <th>16</th>\n",
       "      <td>Joy</td>\n",
       "      <td>Cheerfulness</td>\n",
       "      <td>Glee</td>\n",
       "      <td>Cheerfulness, Glee</td>\n",
       "      <td>1.000000</td>\n",
       "      <td>Positive</td>\n",
       "      <td></td>\n",
       "    </tr>\n",
       "  </tbody>\n",
       "</table>\n",
       "<p>118 rows × 7 columns</p>\n",
       "</div>\n",
       "      <button class=\"colab-df-convert\" onclick=\"convertToInteractive('df-2945a187-78b7-4a51-8ca1-e41f33549271')\"\n",
       "              title=\"Convert this dataframe to an interactive table.\"\n",
       "              style=\"display:none;\">\n",
       "        \n",
       "  <svg xmlns=\"http://www.w3.org/2000/svg\" height=\"24px\"viewBox=\"0 0 24 24\"\n",
       "       width=\"24px\">\n",
       "    <path d=\"M0 0h24v24H0V0z\" fill=\"none\"/>\n",
       "    <path d=\"M18.56 5.44l.94 2.06.94-2.06 2.06-.94-2.06-.94-.94-2.06-.94 2.06-2.06.94zm-11 1L8.5 8.5l.94-2.06 2.06-.94-2.06-.94L8.5 2.5l-.94 2.06-2.06.94zm10 10l.94 2.06.94-2.06 2.06-.94-2.06-.94-.94-2.06-.94 2.06-2.06.94z\"/><path d=\"M17.41 7.96l-1.37-1.37c-.4-.4-.92-.59-1.43-.59-.52 0-1.04.2-1.43.59L10.3 9.45l-7.72 7.72c-.78.78-.78 2.05 0 2.83L4 21.41c.39.39.9.59 1.41.59.51 0 1.02-.2 1.41-.59l7.78-7.78 2.81-2.81c.8-.78.8-2.07 0-2.86zM5.41 20L4 18.59l7.72-7.72 1.47 1.35L5.41 20z\"/>\n",
       "  </svg>\n",
       "      </button>\n",
       "      \n",
       "  <style>\n",
       "    .colab-df-container {\n",
       "      display:flex;\n",
       "      flex-wrap:wrap;\n",
       "      gap: 12px;\n",
       "    }\n",
       "\n",
       "    .colab-df-convert {\n",
       "      background-color: #E8F0FE;\n",
       "      border: none;\n",
       "      border-radius: 50%;\n",
       "      cursor: pointer;\n",
       "      display: none;\n",
       "      fill: #1967D2;\n",
       "      height: 32px;\n",
       "      padding: 0 0 0 0;\n",
       "      width: 32px;\n",
       "    }\n",
       "\n",
       "    .colab-df-convert:hover {\n",
       "      background-color: #E2EBFA;\n",
       "      box-shadow: 0px 1px 2px rgba(60, 64, 67, 0.3), 0px 1px 3px 1px rgba(60, 64, 67, 0.15);\n",
       "      fill: #174EA6;\n",
       "    }\n",
       "\n",
       "    [theme=dark] .colab-df-convert {\n",
       "      background-color: #3B4455;\n",
       "      fill: #D2E3FC;\n",
       "    }\n",
       "\n",
       "    [theme=dark] .colab-df-convert:hover {\n",
       "      background-color: #434B5C;\n",
       "      box-shadow: 0px 1px 3px 1px rgba(0, 0, 0, 0.15);\n",
       "      filter: drop-shadow(0px 1px 2px rgba(0, 0, 0, 0.3));\n",
       "      fill: #FFFFFF;\n",
       "    }\n",
       "  </style>\n",
       "\n",
       "      <script>\n",
       "        const buttonEl =\n",
       "          document.querySelector('#df-2945a187-78b7-4a51-8ca1-e41f33549271 button.colab-df-convert');\n",
       "        buttonEl.style.display =\n",
       "          google.colab.kernel.accessAllowed ? 'block' : 'none';\n",
       "\n",
       "        async function convertToInteractive(key) {\n",
       "          const element = document.querySelector('#df-2945a187-78b7-4a51-8ca1-e41f33549271');\n",
       "          const dataTable =\n",
       "            await google.colab.kernel.invokeFunction('convertToInteractive',\n",
       "                                                     [key], {});\n",
       "          if (!dataTable) return;\n",
       "\n",
       "          const docLinkHtml = 'Like what you see? Visit the ' +\n",
       "            '<a target=\"_blank\" href=https://colab.research.google.com/notebooks/data_table.ipynb>data table notebook</a>'\n",
       "            + ' to learn more about interactive tables.';\n",
       "          element.innerHTML = '';\n",
       "          dataTable['output_type'] = 'display_data';\n",
       "          await google.colab.output.renderOutput(dataTable, element);\n",
       "          const docLink = document.createElement('div');\n",
       "          docLink.innerHTML = docLinkHtml;\n",
       "          element.appendChild(docLink);\n",
       "        }\n",
       "      </script>\n",
       "    </div>\n",
       "  </div>\n",
       "  "
      ],
      "text/plain": [
       "   Primary emotion Secondary emotion Tertiary emotion             combination  \\\n",
       "66           Anger           Disgust         Contempt       Disgust, Contempt   \n",
       "59           Anger              Rage           Hatred            Rage, Hatred   \n",
       "67           Anger           Disgust         Loathing       Disgust, Loathing   \n",
       "52           Anger              Rage            Anger             Rage, Anger   \n",
       "54           Anger              Rage             Fury              Rage, Fury   \n",
       "..             ...               ...              ...                     ...   \n",
       "20             Joy      Cheerfulness          Delight   Cheerfulness, Delight   \n",
       "27             Joy      Cheerfulness          Ecstasy   Cheerfulness, Ecstasy   \n",
       "0             Love         Affection        Adoration    Affection, Adoration   \n",
       "28             Joy      Cheerfulness         Euphoria  Cheerfulness, Euphoria   \n",
       "16             Joy      Cheerfulness             Glee      Cheerfulness, Glee   \n",
       "\n",
       "    sentiment_score     Emotion type Emotion  \n",
       "66         0.000000  Strong Negative          \n",
       "59         0.000000  Strong Negative          \n",
       "67         0.006098  Strong Negative          \n",
       "52         0.012195  Strong Negative          \n",
       "54         0.012195  Strong Negative          \n",
       "..              ...              ...     ...  \n",
       "20         0.987805         Positive          \n",
       "27         0.987805         Positive          \n",
       "0          1.000000         Positive          \n",
       "28         1.000000         Positive          \n",
       "16         1.000000         Positive          \n",
       "\n",
       "[118 rows x 7 columns]"
      ]
     },
     "execution_count": 67,
     "metadata": {},
     "output_type": "execute_result"
    }
   ],
   "source": [
    "# Show the final table\n",
    "df"
   ]
  },
  {
   "cell_type": "code",
   "execution_count": 103,
   "metadata": {
    "colab": {
     "base_uri": "https://localhost:8080/",
     "height": 647
    },
    "id": "yOzHmdd8cEUZ",
    "outputId": "1704dbde-9717-4b0e-f323-c05555ac4ed6"
   },
   "outputs": [
    {
     "data": {
      "text/html": [
       "<html>\n",
       "<head><meta charset=\"utf-8\" /></head>\n",
       "<body>\n",
       "    <div>            <script src=\"https://cdnjs.cloudflare.com/ajax/libs/mathjax/2.7.5/MathJax.js?config=TeX-AMS-MML_SVG\"></script><script type=\"text/javascript\">if (window.MathJax) {MathJax.Hub.Config({SVG: {font: \"STIX-Web\"}});}</script>                <script type=\"text/javascript\">window.PlotlyConfig = {MathJaxConfig: 'local'};</script>\n",
       "        <script src=\"https://cdn.plot.ly/plotly-2.8.3.min.js\"></script>                <div id=\"80ea08df-a8e5-4d1b-aa5b-6ec6d741872e\" class=\"plotly-graph-div\" style=\"height:630px; width:1200px;\"></div>            <script type=\"text/javascript\">                                    window.PLOTLYENV=window.PLOTLYENV || {};                                    if (document.getElementById(\"80ea08df-a8e5-4d1b-aa5b-6ec6d741872e\")) {                    Plotly.newPlot(                        \"80ea08df-a8e5-4d1b-aa5b-6ec6d741872e\",                        [{\"branchvalues\":\"total\",\"domain\":{\"x\":[0.0,1.0],\"y\":[0.0,1.0]},\"hovertemplate\":\"labels=%{label}<br>count=%{value}<br>parent=%{parent}<br>id=%{id}<extra></extra>\",\"ids\":[\" /Love/Affection/Adoration\",\" /Anger/Irritability/Aggravation\",\" /Anger/Irritability/Agitation\",\" /Sadness/Suffering/Agony\",\" /Fear/Horror/Alarm\",\" /Sadness/Neglect/Alienation\",\" /Surprise/Amazed/Amazement\",\" /Joy/Cheerfulness/Amusement\",\" /Anger/Rage/Anger\",\" /Sadness/Suffering/Anguish\",\" /Anger/Irritability/Annoyance\",\" /Fear/Nervousness/Anxiety\",\" /Fear/Nervousness/Apprehension (fear)\",\" /Surprise/Amazed/Astonishment\",\" /Surprise/Overcome/Astonishment\",\" /Love/Affection/Attraction\",\" /Anger/Rage/Bitterness\",\" /Joy/Cheerfulness/Bliss\",\" /Love/Affection/Caring\",\" /Love/Affection/Compassion\",\" /Anger/Disgust/Contempt\",\" /Anger/Irritability/Crosspatch\",\" /Sadness/Neglect/Defeatism\",\" /Sadness/Neglect/Dejection\",\" /Joy/Cheerfulness/Delight\",\" /Sadness/Sadness/Depression\",\" /Love/Lust/Desire\",\" /Sadness/Sadness/Despair\",\" /Anger/Rage/Dislike\",\" /Sadness/Disappointment/Dismay\",\" /Sadness/Disappointment/Displeasure\",\" /Fear/Nervousness/Distress\",\" /Fear/Nervousness/Dread\",\" /Love/Longing/Eagerness\",\" /Joy/Optimism/Eagerness\",\" /Joy/Cheerfulness/Ecstasy\",\" /Joy/Cheerfulness/Elation\",\" /Sadness/Neglect/Embarrassment\",\" /Joy/Cheerfulness/Enjoyment\",\" /Joy/Enthrallment/Enthrallment\",\" /Joy/Zest/Enthusiasm\",\" /Joy/Cheerfulness/Euphoria\",\" /Joy/Zest/Excitement\",\" /Joy/Zest/Exhilaration\",\" /Fear/Horror/Fear\",\" /Anger/Rage/Ferocity\",\" /Love/Affection/Fondness\",\" /Fear/Horror/Fright\",\" /Anger/Exasperation/Frustration\",\" /Anger/Rage/Fury\",\" /Joy/Cheerfulness/Gaiety\",\" /Joy/Cheerfulness/Gladness\",\" /Joy/Cheerfulness/Glee\",\" /Sadness/Sadness/Gloom\",\" /Sadness/Sadness/Glumness\",\" /Sadness/Sadness/Grief\",\" /Anger/Irritability/Grouchy\",\" /Anger/Irritability/Grumpy\",\" /Sadness/Shame/Guilt\",\" /Joy/Cheerfulness/Happiness\",\" /Anger/Rage/Hatred\",\" /Sadness/Neglect/Homesickness\",\" /Joy/Optimism/Hope\",\" /Fear/Horror/Horror\",\" /Anger/Rage/Hostility\",\" /Sadness/Neglect/Humiliation\",\" /Sadness/Suffering/Hurt\",\" /Fear/Horror/Hysteria\",\" /Love/Lust/Infatuation\",\" /Sadness/Neglect/Insecurity\",\" /Sadness/Neglect/Insult\",\" /Sadness/Neglect/Isolation\",\" /Anger/Envy/Jealousy\",\" /Joy/Cheerfulness/Jolliness\",\" /Joy/Cheerfulness/Joviality\",\" /Joy/Cheerfulness/Joy\",\" /Joy/Cheerfulness/Jubilation\",\" /Love/Affection/Liking\",\" /Anger/Disgust/Loathing\",\" /Sadness/Neglect/Loneliness\",\" /Sadness/Sadness/Melancholy\",\" /Sadness/Sadness/Misery\",\" /Sadness/Sympathy/Mono no aware\",\" /Fear/Horror/Mortification\",\" /Anger/Rage/Outrage\",\" /Fear/Horror/Panic\",\" /Love/Lust/Passion\",\" /Sadness/Sympathy/Pity\",\" /Joy/Contentment/Pleasure\",\" /Joy/Enthrallment/Rapture\",\" /Sadness/Shame/Regret\",\" /Sadness/Neglect/Rejection\",\" /Joy/Relief/Relief\",\" /Sadness/Shame/Remorse\",\" /Anger/Rage/Resentment\",\" /Anger/Disgust/Revulsion\",\" /Joy/Cheerfulness/Satisfaction\",\" /Anger/Rage/Scorn\",\" /Love/Affection/Sentimentality\",\" /Fear/Horror/Shock\",\" /Sadness/Sadness/Sorrow\",\" /Surprise/Overcome/Speechless\",\" /Anger/Rage/Spite\",\" /Fear/Nervousness/Suspense\",\" /Sadness/Sympathy/Sympathy\",\" /Love/Affection/Tenderness\",\" /Fear/Horror/Terror\",\" /Joy/Zest/Thrill\",\" /Anger/Torment/Torment\",\" /Joy/Pride/Triumph\",\" /Fear/Nervousness/Uneasiness\",\" /Sadness/Sadness/Unhappiness\",\" /Anger/Rage/Vengefulness\",\" /Sadness/Sadness/Woe\",\" /Fear/Nervousness/Worry\",\" /Anger/Rage/Wrath\",\" /Love/Longing/Yearning\",\" /Joy/Zest/Zeal\",\" /Love/Affection\",\" /Surprise/Amazed\",\" /Joy/Cheerfulness\",\" /Joy/Contentment\",\" /Sadness/Disappointment\",\" /Anger/Disgust\",\" /Joy/Enthrallment\",\" /Anger/Envy\",\" /Anger/Exasperation\",\" /Fear/Horror\",\" /Anger/Irritability\",\" /Love/Longing\",\" /Love/Lust\",\" /Sadness/Neglect\",\" /Fear/Nervousness\",\" /Joy/Optimism\",\" /Surprise/Overcome\",\" /Joy/Pride\",\" /Anger/Rage\",\" /Joy/Relief\",\" /Sadness/Sadness\",\" /Sadness/Shame\",\" /Sadness/Suffering\",\" /Sadness/Sympathy\",\" /Anger/Torment\",\" /Joy/Zest\",\" /Anger\",\" /Fear\",\" /Joy\",\" /Love\",\" /Sadness\",\" /Surprise\",\" \"],\"labels\":[\"Adoration\",\"Aggravation\",\"Agitation\",\"Agony\",\"Alarm\",\"Alienation\",\"Amazement\",\"Amusement\",\"Anger\",\"Anguish\",\"Annoyance\",\"Anxiety\",\"Apprehension (fear)\",\"Astonishment\",\"Astonishment\",\"Attraction\",\"Bitterness\",\"Bliss\",\"Caring\",\"Compassion\",\"Contempt\",\"Crosspatch\",\"Defeatism\",\"Dejection\",\"Delight\",\"Depression\",\"Desire\",\"Despair\",\"Dislike\",\"Dismay\",\"Displeasure\",\"Distress\",\"Dread\",\"Eagerness\",\"Eagerness\",\"Ecstasy\",\"Elation\",\"Embarrassment\",\"Enjoyment\",\"Enthrallment\",\"Enthusiasm\",\"Euphoria\",\"Excitement\",\"Exhilaration\",\"Fear\",\"Ferocity\",\"Fondness\",\"Fright\",\"Frustration\",\"Fury\",\"Gaiety\",\"Gladness\",\"Glee\",\"Gloom\",\"Glumness\",\"Grief\",\"Grouchy\",\"Grumpy\",\"Guilt\",\"Happiness\",\"Hatred\",\"Homesickness\",\"Hope\",\"Horror\",\"Hostility\",\"Humiliation\",\"Hurt\",\"Hysteria\",\"Infatuation\",\"Insecurity\",\"Insult\",\"Isolation\",\"Jealousy\",\"Jolliness\",\"Joviality\",\"Joy\",\"Jubilation\",\"Liking\",\"Loathing\",\"Loneliness\",\"Melancholy\",\"Misery\",\"Mono no aware\",\"Mortification\",\"Outrage\",\"Panic\",\"Passion\",\"Pity\",\"Pleasure\",\"Rapture\",\"Regret\",\"Rejection\",\"Relief\",\"Remorse\",\"Resentment\",\"Revulsion\",\"Satisfaction\",\"Scorn\",\"Sentimentality\",\"Shock\",\"Sorrow\",\"Speechless\",\"Spite\",\"Suspense\",\"Sympathy\",\"Tenderness\",\"Terror\",\"Thrill\",\"Torment\",\"Triumph\",\"Uneasiness\",\"Unhappiness\",\"Vengefulness\",\"Woe\",\"Worry\",\"Wrath\",\"Yearning\",\"Zeal\",\"Affection\",\"Amazed\",\"Cheerfulness\",\"Contentment\",\"Disappointment\",\"Disgust\",\"Enthrallment\",\"Envy\",\"Exasperation\",\"Horror\",\"Irritability\",\"Longing\",\"Lust\",\"Neglect\",\"Nervousness\",\"Optimism\",\"Overcome\",\"Pride\",\"Rage\",\"Relief\",\"Sadness\",\"Shame\",\"Suffering\",\"Sympathy\",\"Torment\",\"Zest\",\"Anger\",\"Fear\",\"Joy\",\"Love\",\"Sadness\",\"Surprise\",\" \"],\"maxdepth\":3,\"name\":\"\",\"parents\":[\" /Love/Affection\",\" /Anger/Irritability\",\" /Anger/Irritability\",\" /Sadness/Suffering\",\" /Fear/Horror\",\" /Sadness/Neglect\",\" /Surprise/Amazed\",\" /Joy/Cheerfulness\",\" /Anger/Rage\",\" /Sadness/Suffering\",\" /Anger/Irritability\",\" /Fear/Nervousness\",\" /Fear/Nervousness\",\" /Surprise/Amazed\",\" /Surprise/Overcome\",\" /Love/Affection\",\" /Anger/Rage\",\" /Joy/Cheerfulness\",\" /Love/Affection\",\" /Love/Affection\",\" /Anger/Disgust\",\" /Anger/Irritability\",\" /Sadness/Neglect\",\" /Sadness/Neglect\",\" /Joy/Cheerfulness\",\" /Sadness/Sadness\",\" /Love/Lust\",\" /Sadness/Sadness\",\" /Anger/Rage\",\" /Sadness/Disappointment\",\" /Sadness/Disappointment\",\" /Fear/Nervousness\",\" /Fear/Nervousness\",\" /Love/Longing\",\" /Joy/Optimism\",\" /Joy/Cheerfulness\",\" /Joy/Cheerfulness\",\" /Sadness/Neglect\",\" /Joy/Cheerfulness\",\" /Joy/Enthrallment\",\" /Joy/Zest\",\" /Joy/Cheerfulness\",\" /Joy/Zest\",\" /Joy/Zest\",\" /Fear/Horror\",\" /Anger/Rage\",\" /Love/Affection\",\" /Fear/Horror\",\" /Anger/Exasperation\",\" /Anger/Rage\",\" /Joy/Cheerfulness\",\" /Joy/Cheerfulness\",\" /Joy/Cheerfulness\",\" /Sadness/Sadness\",\" /Sadness/Sadness\",\" /Sadness/Sadness\",\" /Anger/Irritability\",\" /Anger/Irritability\",\" /Sadness/Shame\",\" /Joy/Cheerfulness\",\" /Anger/Rage\",\" /Sadness/Neglect\",\" /Joy/Optimism\",\" /Fear/Horror\",\" /Anger/Rage\",\" /Sadness/Neglect\",\" /Sadness/Suffering\",\" /Fear/Horror\",\" /Love/Lust\",\" /Sadness/Neglect\",\" /Sadness/Neglect\",\" /Sadness/Neglect\",\" /Anger/Envy\",\" /Joy/Cheerfulness\",\" /Joy/Cheerfulness\",\" /Joy/Cheerfulness\",\" /Joy/Cheerfulness\",\" /Love/Affection\",\" /Anger/Disgust\",\" /Sadness/Neglect\",\" /Sadness/Sadness\",\" /Sadness/Sadness\",\" /Sadness/Sympathy\",\" /Fear/Horror\",\" /Anger/Rage\",\" /Fear/Horror\",\" /Love/Lust\",\" /Sadness/Sympathy\",\" /Joy/Contentment\",\" /Joy/Enthrallment\",\" /Sadness/Shame\",\" /Sadness/Neglect\",\" /Joy/Relief\",\" /Sadness/Shame\",\" /Anger/Rage\",\" /Anger/Disgust\",\" /Joy/Cheerfulness\",\" /Anger/Rage\",\" /Love/Affection\",\" /Fear/Horror\",\" /Sadness/Sadness\",\" /Surprise/Overcome\",\" /Anger/Rage\",\" /Fear/Nervousness\",\" /Sadness/Sympathy\",\" /Love/Affection\",\" /Fear/Horror\",\" /Joy/Zest\",\" /Anger/Torment\",\" /Joy/Pride\",\" /Fear/Nervousness\",\" /Sadness/Sadness\",\" /Anger/Rage\",\" /Sadness/Sadness\",\" /Fear/Nervousness\",\" /Anger/Rage\",\" /Love/Longing\",\" /Joy/Zest\",\" /Love\",\" /Surprise\",\" /Joy\",\" /Joy\",\" /Sadness\",\" /Anger\",\" /Joy\",\" /Anger\",\" /Anger\",\" /Fear\",\" /Anger\",\" /Love\",\" /Love\",\" /Sadness\",\" /Fear\",\" /Joy\",\" /Surprise\",\" /Joy\",\" /Anger\",\" /Joy\",\" /Sadness\",\" /Sadness\",\" /Sadness\",\" /Sadness\",\" /Anger\",\" /Joy\",\" \",\" \",\" \",\" \",\" \",\" \",\"\"],\"values\":[1,1,1,1,1,1,1,1,1,1,1,1,1,1,1,1,1,1,1,1,1,1,1,1,1,1,1,1,1,1,1,1,1,1,1,1,1,1,1,1,1,1,1,1,1,1,1,1,1,1,1,1,1,1,1,1,1,1,1,1,1,1,1,1,1,1,1,1,1,1,1,1,1,1,1,1,1,1,1,1,1,1,1,1,1,1,1,1,1,1,1,1,1,1,1,1,1,1,1,1,1,1,1,1,1,1,1,1,1,1,1,1,1,1,1,1,1,1,8,2,16,1,2,3,2,1,1,9,6,2,3,11,7,2,2,1,13,1,10,3,3,3,1,5,25,16,28,13,32,4,118],\"type\":\"sunburst\",\"insidetextorientation\":\"radial\"}],                        {\"template\":{\"data\":{\"bar\":[{\"error_x\":{\"color\":\"#2a3f5f\"},\"error_y\":{\"color\":\"#2a3f5f\"},\"marker\":{\"line\":{\"color\":\"#E5ECF6\",\"width\":0.5},\"pattern\":{\"fillmode\":\"overlay\",\"size\":10,\"solidity\":0.2}},\"type\":\"bar\"}],\"barpolar\":[{\"marker\":{\"line\":{\"color\":\"#E5ECF6\",\"width\":0.5},\"pattern\":{\"fillmode\":\"overlay\",\"size\":10,\"solidity\":0.2}},\"type\":\"barpolar\"}],\"carpet\":[{\"aaxis\":{\"endlinecolor\":\"#2a3f5f\",\"gridcolor\":\"white\",\"linecolor\":\"white\",\"minorgridcolor\":\"white\",\"startlinecolor\":\"#2a3f5f\"},\"baxis\":{\"endlinecolor\":\"#2a3f5f\",\"gridcolor\":\"white\",\"linecolor\":\"white\",\"minorgridcolor\":\"white\",\"startlinecolor\":\"#2a3f5f\"},\"type\":\"carpet\"}],\"choropleth\":[{\"colorbar\":{\"outlinewidth\":0,\"ticks\":\"\"},\"type\":\"choropleth\"}],\"contour\":[{\"colorbar\":{\"outlinewidth\":0,\"ticks\":\"\"},\"colorscale\":[[0.0,\"#0d0887\"],[0.1111111111111111,\"#46039f\"],[0.2222222222222222,\"#7201a8\"],[0.3333333333333333,\"#9c179e\"],[0.4444444444444444,\"#bd3786\"],[0.5555555555555556,\"#d8576b\"],[0.6666666666666666,\"#ed7953\"],[0.7777777777777778,\"#fb9f3a\"],[0.8888888888888888,\"#fdca26\"],[1.0,\"#f0f921\"]],\"type\":\"contour\"}],\"contourcarpet\":[{\"colorbar\":{\"outlinewidth\":0,\"ticks\":\"\"},\"type\":\"contourcarpet\"}],\"heatmap\":[{\"colorbar\":{\"outlinewidth\":0,\"ticks\":\"\"},\"colorscale\":[[0.0,\"#0d0887\"],[0.1111111111111111,\"#46039f\"],[0.2222222222222222,\"#7201a8\"],[0.3333333333333333,\"#9c179e\"],[0.4444444444444444,\"#bd3786\"],[0.5555555555555556,\"#d8576b\"],[0.6666666666666666,\"#ed7953\"],[0.7777777777777778,\"#fb9f3a\"],[0.8888888888888888,\"#fdca26\"],[1.0,\"#f0f921\"]],\"type\":\"heatmap\"}],\"heatmapgl\":[{\"colorbar\":{\"outlinewidth\":0,\"ticks\":\"\"},\"colorscale\":[[0.0,\"#0d0887\"],[0.1111111111111111,\"#46039f\"],[0.2222222222222222,\"#7201a8\"],[0.3333333333333333,\"#9c179e\"],[0.4444444444444444,\"#bd3786\"],[0.5555555555555556,\"#d8576b\"],[0.6666666666666666,\"#ed7953\"],[0.7777777777777778,\"#fb9f3a\"],[0.8888888888888888,\"#fdca26\"],[1.0,\"#f0f921\"]],\"type\":\"heatmapgl\"}],\"histogram\":[{\"marker\":{\"pattern\":{\"fillmode\":\"overlay\",\"size\":10,\"solidity\":0.2}},\"type\":\"histogram\"}],\"histogram2d\":[{\"colorbar\":{\"outlinewidth\":0,\"ticks\":\"\"},\"colorscale\":[[0.0,\"#0d0887\"],[0.1111111111111111,\"#46039f\"],[0.2222222222222222,\"#7201a8\"],[0.3333333333333333,\"#9c179e\"],[0.4444444444444444,\"#bd3786\"],[0.5555555555555556,\"#d8576b\"],[0.6666666666666666,\"#ed7953\"],[0.7777777777777778,\"#fb9f3a\"],[0.8888888888888888,\"#fdca26\"],[1.0,\"#f0f921\"]],\"type\":\"histogram2d\"}],\"histogram2dcontour\":[{\"colorbar\":{\"outlinewidth\":0,\"ticks\":\"\"},\"colorscale\":[[0.0,\"#0d0887\"],[0.1111111111111111,\"#46039f\"],[0.2222222222222222,\"#7201a8\"],[0.3333333333333333,\"#9c179e\"],[0.4444444444444444,\"#bd3786\"],[0.5555555555555556,\"#d8576b\"],[0.6666666666666666,\"#ed7953\"],[0.7777777777777778,\"#fb9f3a\"],[0.8888888888888888,\"#fdca26\"],[1.0,\"#f0f921\"]],\"type\":\"histogram2dcontour\"}],\"mesh3d\":[{\"colorbar\":{\"outlinewidth\":0,\"ticks\":\"\"},\"type\":\"mesh3d\"}],\"parcoords\":[{\"line\":{\"colorbar\":{\"outlinewidth\":0,\"ticks\":\"\"}},\"type\":\"parcoords\"}],\"pie\":[{\"automargin\":true,\"type\":\"pie\"}],\"scatter\":[{\"marker\":{\"colorbar\":{\"outlinewidth\":0,\"ticks\":\"\"}},\"type\":\"scatter\"}],\"scatter3d\":[{\"line\":{\"colorbar\":{\"outlinewidth\":0,\"ticks\":\"\"}},\"marker\":{\"colorbar\":{\"outlinewidth\":0,\"ticks\":\"\"}},\"type\":\"scatter3d\"}],\"scattercarpet\":[{\"marker\":{\"colorbar\":{\"outlinewidth\":0,\"ticks\":\"\"}},\"type\":\"scattercarpet\"}],\"scattergeo\":[{\"marker\":{\"colorbar\":{\"outlinewidth\":0,\"ticks\":\"\"}},\"type\":\"scattergeo\"}],\"scattergl\":[{\"marker\":{\"colorbar\":{\"outlinewidth\":0,\"ticks\":\"\"}},\"type\":\"scattergl\"}],\"scattermapbox\":[{\"marker\":{\"colorbar\":{\"outlinewidth\":0,\"ticks\":\"\"}},\"type\":\"scattermapbox\"}],\"scatterpolar\":[{\"marker\":{\"colorbar\":{\"outlinewidth\":0,\"ticks\":\"\"}},\"type\":\"scatterpolar\"}],\"scatterpolargl\":[{\"marker\":{\"colorbar\":{\"outlinewidth\":0,\"ticks\":\"\"}},\"type\":\"scatterpolargl\"}],\"scatterternary\":[{\"marker\":{\"colorbar\":{\"outlinewidth\":0,\"ticks\":\"\"}},\"type\":\"scatterternary\"}],\"surface\":[{\"colorbar\":{\"outlinewidth\":0,\"ticks\":\"\"},\"colorscale\":[[0.0,\"#0d0887\"],[0.1111111111111111,\"#46039f\"],[0.2222222222222222,\"#7201a8\"],[0.3333333333333333,\"#9c179e\"],[0.4444444444444444,\"#bd3786\"],[0.5555555555555556,\"#d8576b\"],[0.6666666666666666,\"#ed7953\"],[0.7777777777777778,\"#fb9f3a\"],[0.8888888888888888,\"#fdca26\"],[1.0,\"#f0f921\"]],\"type\":\"surface\"}],\"table\":[{\"cells\":{\"fill\":{\"color\":\"#EBF0F8\"},\"line\":{\"color\":\"white\"}},\"header\":{\"fill\":{\"color\":\"#C8D4E3\"},\"line\":{\"color\":\"white\"}},\"type\":\"table\"}]},\"layout\":{\"annotationdefaults\":{\"arrowcolor\":\"#2a3f5f\",\"arrowhead\":0,\"arrowwidth\":1},\"autotypenumbers\":\"strict\",\"coloraxis\":{\"colorbar\":{\"outlinewidth\":0,\"ticks\":\"\"}},\"colorscale\":{\"diverging\":[[0,\"#8e0152\"],[0.1,\"#c51b7d\"],[0.2,\"#de77ae\"],[0.3,\"#f1b6da\"],[0.4,\"#fde0ef\"],[0.5,\"#f7f7f7\"],[0.6,\"#e6f5d0\"],[0.7,\"#b8e186\"],[0.8,\"#7fbc41\"],[0.9,\"#4d9221\"],[1,\"#276419\"]],\"sequential\":[[0.0,\"#0d0887\"],[0.1111111111111111,\"#46039f\"],[0.2222222222222222,\"#7201a8\"],[0.3333333333333333,\"#9c179e\"],[0.4444444444444444,\"#bd3786\"],[0.5555555555555556,\"#d8576b\"],[0.6666666666666666,\"#ed7953\"],[0.7777777777777778,\"#fb9f3a\"],[0.8888888888888888,\"#fdca26\"],[1.0,\"#f0f921\"]],\"sequentialminus\":[[0.0,\"#0d0887\"],[0.1111111111111111,\"#46039f\"],[0.2222222222222222,\"#7201a8\"],[0.3333333333333333,\"#9c179e\"],[0.4444444444444444,\"#bd3786\"],[0.5555555555555556,\"#d8576b\"],[0.6666666666666666,\"#ed7953\"],[0.7777777777777778,\"#fb9f3a\"],[0.8888888888888888,\"#fdca26\"],[1.0,\"#f0f921\"]]},\"colorway\":[\"#636efa\",\"#EF553B\",\"#00cc96\",\"#ab63fa\",\"#FFA15A\",\"#19d3f3\",\"#FF6692\",\"#B6E880\",\"#FF97FF\",\"#FECB52\"],\"font\":{\"color\":\"#2a3f5f\"},\"geo\":{\"bgcolor\":\"white\",\"lakecolor\":\"white\",\"landcolor\":\"#E5ECF6\",\"showlakes\":true,\"showland\":true,\"subunitcolor\":\"white\"},\"hoverlabel\":{\"align\":\"left\"},\"hovermode\":\"closest\",\"mapbox\":{\"style\":\"light\"},\"paper_bgcolor\":\"white\",\"plot_bgcolor\":\"#E5ECF6\",\"polar\":{\"angularaxis\":{\"gridcolor\":\"white\",\"linecolor\":\"white\",\"ticks\":\"\"},\"bgcolor\":\"#E5ECF6\",\"radialaxis\":{\"gridcolor\":\"white\",\"linecolor\":\"white\",\"ticks\":\"\"}},\"scene\":{\"xaxis\":{\"backgroundcolor\":\"#E5ECF6\",\"gridcolor\":\"white\",\"gridwidth\":2,\"linecolor\":\"white\",\"showbackground\":true,\"ticks\":\"\",\"zerolinecolor\":\"white\"},\"yaxis\":{\"backgroundcolor\":\"#E5ECF6\",\"gridcolor\":\"white\",\"gridwidth\":2,\"linecolor\":\"white\",\"showbackground\":true,\"ticks\":\"\",\"zerolinecolor\":\"white\"},\"zaxis\":{\"backgroundcolor\":\"#E5ECF6\",\"gridcolor\":\"white\",\"gridwidth\":2,\"linecolor\":\"white\",\"showbackground\":true,\"ticks\":\"\",\"zerolinecolor\":\"white\"}},\"shapedefaults\":{\"line\":{\"color\":\"#2a3f5f\"}},\"ternary\":{\"aaxis\":{\"gridcolor\":\"white\",\"linecolor\":\"white\",\"ticks\":\"\"},\"baxis\":{\"gridcolor\":\"white\",\"linecolor\":\"white\",\"ticks\":\"\"},\"bgcolor\":\"#E5ECF6\",\"caxis\":{\"gridcolor\":\"white\",\"linecolor\":\"white\",\"ticks\":\"\"}},\"title\":{\"x\":0.05},\"xaxis\":{\"automargin\":true,\"gridcolor\":\"white\",\"linecolor\":\"white\",\"ticks\":\"\",\"title\":{\"standoff\":15},\"zerolinecolor\":\"white\",\"zerolinewidth\":2},\"yaxis\":{\"automargin\":true,\"gridcolor\":\"white\",\"linecolor\":\"white\",\"ticks\":\"\",\"title\":{\"standoff\":15},\"zerolinecolor\":\"white\",\"zerolinewidth\":2}}},\"legend\":{\"tracegroupgap\":0},\"margin\":{\"t\":1,\"l\":1,\"r\":1,\"b\":1},\"sunburstcolorway\":[\"rgb(127, 60, 141)\",\"rgb(17, 165, 121)\",\"rgb(57, 105, 172)\",\"rgb(242, 183, 1)\",\"rgb(231, 63, 116)\",\"rgb(128, 186, 90)\",\"rgb(230, 131, 16)\",\"rgb(0, 134, 149)\",\"rgb(207, 28, 144)\",\"rgb(249, 123, 114)\",\"rgb(165, 170, 153)\"],\"height\":630,\"width\":1200,\"font\":{\"family\":\"Open Sans\",\"size\":14},\"hovermode\":false,\"images\":[{\"layer\":\"below\",\"sizex\":0.1,\"sizey\":0.25,\"source\":\"https://upload.wikimedia.org/wikipedia/commons/thumb/2/24/Rainbow_brain_2021_svg_topicon.svg/1792px-Rainbow_brain_2021_svg_topicon.svg.png\",\"x\":0.5,\"xanchor\":\"center\",\"y\":0.5,\"yanchor\":\"middle\"}]},                        {\"responsive\": true}                    ).then(function(){\n",
       "                            \n",
       "var gd = document.getElementById('80ea08df-a8e5-4d1b-aa5b-6ec6d741872e');\n",
       "var x = new MutationObserver(function (mutations, observer) {{\n",
       "        var display = window.getComputedStyle(gd).display;\n",
       "        if (!display || display === 'none') {{\n",
       "            console.log([gd, 'removed!']);\n",
       "            Plotly.purge(gd);\n",
       "            observer.disconnect();\n",
       "        }}\n",
       "}});\n",
       "\n",
       "// Listen for the removal of the full notebook cells\n",
       "var notebookContainer = gd.closest('#notebook-container');\n",
       "if (notebookContainer) {{\n",
       "    x.observe(notebookContainer, {childList: true});\n",
       "}}\n",
       "\n",
       "// Listen for the clearing of the current output cell\n",
       "var outputEl = gd.closest('.output');\n",
       "if (outputEl) {{\n",
       "    x.observe(outputEl, {childList: true});\n",
       "}}\n",
       "\n",
       "                        })                };                            </script>        </div>\n",
       "</body>\n",
       "</html>"
      ]
     },
     "metadata": {},
     "output_type": "display_data"
    }
   ],
   "source": [
    "# Create interactive sunburst plot\n",
    "fig = px.sunburst(data_frame=df, \n",
    "                  path=[\"Emotion\", \"Primary emotion\", \"Secondary emotion\", \"Tertiary emotion\"],\n",
    "                  maxdepth = 3,\n",
    "                  width = 1200, height = 630,\n",
    "                  color_discrete_sequence= px.colors.qualitative.Bold)\n",
    "\n",
    "# Update fonts\n",
    "fig.update_layout(margin=dict(l=1, r=1, t=1, b=1), \n",
    "                  font_family=\"Open Sans\", \n",
    "                  font_size=14, \n",
    "                  hovermode=False)\n",
    "\n",
    "# Change orientation of the text to radial\n",
    "# Orientation selection - auto|horizontal|radial|tangential\n",
    "fig.update_traces(insidetextorientation='radial') \n",
    "\n",
    "# Add a nice brain image to spice the viz. Uploaded from wikimedia commons.\n",
    "fig.add_layout_image(\n",
    "                      { \"source\": \"https://upload.wikimedia.org/wikipedia/commons/thumb/2/24/Rainbow_brain_2021_svg_topicon.svg/1792px-Rainbow_brain_2021_svg_topicon.svg.png\",\n",
    "                        \"layer\": \"below\",\n",
    "                        \"x\": 0.5, \n",
    "                        \"y\": 0.5, \n",
    "                        \"sizex\": 0.1, \n",
    "                        \"sizey\": 0.25,\n",
    "                        \"xanchor\": \"center\", \n",
    "                        \"yanchor\": \"middle\" }\n",
    "                        )\n",
    "\n",
    "\n",
    "fig.show()"
   ]
  },
  {
   "cell_type": "code",
   "execution_count": 104,
   "metadata": {
    "colab": {
     "base_uri": "https://localhost:8080/",
     "height": 36
    },
    "id": "3G-cyQi_QWoz",
    "outputId": "5cee1c5f-eed3-4219-85a7-793fb291045b"
   },
   "outputs": [
    {
     "data": {
      "application/vnd.google.colaboratory.intrinsic+json": {
       "type": "string"
      },
      "text/plain": [
       "'https://plotly.com/~krupesh.raikar/21/'"
      ]
     },
     "execution_count": 104,
     "metadata": {},
     "output_type": "execute_result"
    }
   ],
   "source": [
    "# Sent to plotly chart studio as a public image\n",
    "chart_studio.plotly.plot(fig, filename=\"sunburst-chart_human_emotions\", auto_open = True)"
   ]
  },
  {
   "cell_type": "code",
   "execution_count": 79,
   "metadata": {
    "id": "WFzNOpeIWjp2"
   },
   "outputs": [],
   "source": []
  },
  {
   "cell_type": "code",
   "execution_count": null,
   "metadata": {
    "id": "Zs1mRyY5WkZW"
   },
   "outputs": [],
   "source": []
  },
  {
   "cell_type": "code",
   "execution_count": null,
   "metadata": {
    "id": "7IjXOdFYuFa6"
   },
   "outputs": [],
   "source": []
  }
 ],
 "metadata": {
  "colab": {
   "collapsed_sections": [],
   "name": "Visualizing Human Emotions.ipynb",
   "provenance": []
  },
  "kernelspec": {
   "display_name": "Python 3",
   "language": "python",
   "name": "python3"
  },
  "language_info": {
   "codemirror_mode": {
    "name": "ipython",
    "version": 3
   },
   "file_extension": ".py",
   "mimetype": "text/x-python",
   "name": "python",
   "nbconvert_exporter": "python",
   "pygments_lexer": "ipython3",
   "version": "3.8.8"
  }
 },
 "nbformat": 4,
 "nbformat_minor": 1
}
